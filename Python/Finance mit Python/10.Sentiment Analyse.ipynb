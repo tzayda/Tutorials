{
 "cells": [
  {
   "cell_type": "code",
   "execution_count": 1,
   "id": "642eda0c",
   "metadata": {},
   "outputs": [],
   "source": [
    "#Beschreibung: Dieses Programm wertet Finanznachrichten aus"
   ]
  },
  {
   "cell_type": "code",
   "execution_count": 2,
   "id": "4379d99c",
   "metadata": {},
   "outputs": [],
   "source": [
    "from urllib.request import urlopen, Request\n",
    "from bs4 import BeautifulSoup\n",
    "import nltk\n",
    "import pandas as pd\n",
    "import matplotlib_inline as plt"
   ]
  },
  {
   "cell_type": "code",
   "execution_count": 3,
   "id": "87e1bbbc",
   "metadata": {},
   "outputs": [
    {
     "name": "stderr",
     "output_type": "stream",
     "text": [
      "[nltk_data] Downloading package vader_lexicon to\n",
      "[nltk_data]     /Users/shamsbabayeva/nltk_data...\n",
      "[nltk_data]   Package vader_lexicon is already up-to-date!\n"
     ]
    },
    {
     "data": {
      "text/plain": [
       "True"
      ]
     },
     "execution_count": 3,
     "metadata": {},
     "output_type": "execute_result"
    }
   ],
   "source": [
    "nltk.download(\"vader_lexicon\")"
   ]
  },
  {
   "cell_type": "code",
   "execution_count": 4,
   "id": "b15d3cc3",
   "metadata": {},
   "outputs": [],
   "source": [
    "from nltk.sentiment.vader import SentimentIntensityAnalyzer"
   ]
  },
  {
   "cell_type": "code",
   "execution_count": 5,
   "id": "a2bc32ee",
   "metadata": {},
   "outputs": [],
   "source": [
    "finviz_url = \"https://finviz.com/quote.ashx?t=\"\n",
    "ticker = \"AMZN\"\n",
    "url = finviz_url + ticker"
   ]
  },
  {
   "cell_type": "code",
   "execution_count": 6,
   "id": "bbd77873",
   "metadata": {},
   "outputs": [],
   "source": [
    "req = Request(url=url, headers={\"user-agent\": \"my-app\"})\n",
    "response = urlopen(req)\n",
    "soup = BeautifulSoup(response, \"html\")"
   ]
  },
  {
   "cell_type": "code",
   "execution_count": 8,
   "id": "7cf61275",
   "metadata": {},
   "outputs": [],
   "source": [
    "# print(soup.prettify())"
   ]
  },
  {
   "cell_type": "code",
   "execution_count": 9,
   "id": "4d85c044",
   "metadata": {},
   "outputs": [],
   "source": [
    "news = soup.find(id=\"news-table\")"
   ]
  },
  {
   "cell_type": "code",
   "execution_count": 11,
   "id": "db1c1280",
   "metadata": {},
   "outputs": [],
   "source": [
    "news = news.findAll(\"tr\")"
   ]
  },
  {
   "cell_type": "code",
   "execution_count": 17,
   "id": "62227fc4",
   "metadata": {},
   "outputs": [],
   "source": [
    "news_data = []\n",
    "\n",
    "for index, n in enumerate(news):\n",
    "    title = n.a.text\n",
    "    timestamp = n.td.text.split(\" \")\n",
    "    if len(timestamp) == 1:\n",
    "        time = timestamp[0]\n",
    "    else:\n",
    "        date = timestamp[0]\n",
    "        time = timestamp[1]\n",
    "    news_data.append([date, time, title])"
   ]
  },
  {
   "cell_type": "code",
   "execution_count": 19,
   "id": "970f81f9",
   "metadata": {},
   "outputs": [],
   "source": [
    "#news_data"
   ]
  },
  {
   "cell_type": "code",
   "execution_count": 20,
   "id": "5af42382",
   "metadata": {},
   "outputs": [
    {
     "data": {
      "text/html": [
       "<div>\n",
       "<style scoped>\n",
       "    .dataframe tbody tr th:only-of-type {\n",
       "        vertical-align: middle;\n",
       "    }\n",
       "\n",
       "    .dataframe tbody tr th {\n",
       "        vertical-align: top;\n",
       "    }\n",
       "\n",
       "    .dataframe thead th {\n",
       "        text-align: right;\n",
       "    }\n",
       "</style>\n",
       "<table border=\"1\" class=\"dataframe\">\n",
       "  <thead>\n",
       "    <tr style=\"text-align: right;\">\n",
       "      <th></th>\n",
       "      <th>date</th>\n",
       "      <th>time</th>\n",
       "      <th>title</th>\n",
       "    </tr>\n",
       "  </thead>\n",
       "  <tbody>\n",
       "    <tr>\n",
       "      <th>0</th>\n",
       "      <td>Apr-01-22</td>\n",
       "      <td>09:41AM</td>\n",
       "      <td>Three U.S. House Democrats seek documents from...</td>\n",
       "    </tr>\n",
       "    <tr>\n",
       "      <th>1</th>\n",
       "      <td>Apr-01-22</td>\n",
       "      <td>09:38AM</td>\n",
       "      <td>Amazon's NY union vote count continues, labor ...</td>\n",
       "    </tr>\n",
       "    <tr>\n",
       "      <th>2</th>\n",
       "      <td>Apr-01-22</td>\n",
       "      <td>09:00AM</td>\n",
       "      <td>U.S. lawmakers open probe into Amazon labor pr...</td>\n",
       "    </tr>\n",
       "    <tr>\n",
       "      <th>3</th>\n",
       "      <td>Apr-01-22</td>\n",
       "      <td>08:30AM</td>\n",
       "      <td>Stock Split Watch: Is MercadoLibre Next?</td>\n",
       "    </tr>\n",
       "    <tr>\n",
       "      <th>4</th>\n",
       "      <td>Apr-01-22</td>\n",
       "      <td>08:16AM</td>\n",
       "      <td>GameStop Flags Stock Split, Shares Surge</td>\n",
       "    </tr>\n",
       "    <tr>\n",
       "      <th>...</th>\n",
       "      <td>...</td>\n",
       "      <td>...</td>\n",
       "      <td>...</td>\n",
       "    </tr>\n",
       "    <tr>\n",
       "      <th>95</th>\n",
       "      <td>Mar-29-22</td>\n",
       "      <td>07:00AM</td>\n",
       "      <td>Biden proposed a big funding increase for US a...</td>\n",
       "    </tr>\n",
       "    <tr>\n",
       "      <th>96</th>\n",
       "      <td>Mar-29-22</td>\n",
       "      <td>06:00AM</td>\n",
       "      <td>3 Amazon Mistakes I've Made That Cost Me Big-Time</td>\n",
       "    </tr>\n",
       "    <tr>\n",
       "      <th>97</th>\n",
       "      <td>Mar-29-22</td>\n",
       "      <td>05:56AM</td>\n",
       "      <td>Justice Department Supports Bill That Targets ...</td>\n",
       "    </tr>\n",
       "    <tr>\n",
       "      <th>98</th>\n",
       "      <td>Mar-29-22</td>\n",
       "      <td>04:28AM</td>\n",
       "      <td>Senate Passes China Competition Bill to Start ...</td>\n",
       "    </tr>\n",
       "    <tr>\n",
       "      <th>99</th>\n",
       "      <td>Mar-29-22</td>\n",
       "      <td>03:00AM</td>\n",
       "      <td>Amazon Glow Now Available for All Customers in...</td>\n",
       "    </tr>\n",
       "  </tbody>\n",
       "</table>\n",
       "<p>100 rows × 3 columns</p>\n",
       "</div>"
      ],
      "text/plain": [
       "         date       time                                              title\n",
       "0   Apr-01-22  09:41AM    Three U.S. House Democrats seek documents from...\n",
       "1   Apr-01-22  09:38AM    Amazon's NY union vote count continues, labor ...\n",
       "2   Apr-01-22  09:00AM    U.S. lawmakers open probe into Amazon labor pr...\n",
       "3   Apr-01-22  08:30AM             Stock Split Watch: Is MercadoLibre Next?\n",
       "4   Apr-01-22  08:16AM             GameStop Flags Stock Split, Shares Surge\n",
       "..        ...        ...                                                ...\n",
       "95  Mar-29-22  07:00AM    Biden proposed a big funding increase for US a...\n",
       "96  Mar-29-22  06:00AM    3 Amazon Mistakes I've Made That Cost Me Big-Time\n",
       "97  Mar-29-22  05:56AM    Justice Department Supports Bill That Targets ...\n",
       "98  Mar-29-22  04:28AM    Senate Passes China Competition Bill to Start ...\n",
       "99  Mar-29-22  03:00AM    Amazon Glow Now Available for All Customers in...\n",
       "\n",
       "[100 rows x 3 columns]"
      ]
     },
     "execution_count": 20,
     "metadata": {},
     "output_type": "execute_result"
    }
   ],
   "source": [
    "df = pd.DataFrame(news_data, columns = [\"date\", \"time\", \"title\"])\n",
    "df"
   ]
  },
  {
   "cell_type": "code",
   "execution_count": 21,
   "id": "2e2bc627",
   "metadata": {},
   "outputs": [],
   "source": [
    "vader = SentimentIntensityAnalyzer()"
   ]
  },
  {
   "cell_type": "code",
   "execution_count": 24,
   "id": "0e89ced6",
   "metadata": {},
   "outputs": [],
   "source": [
    "# df[\"title\"].apply(lambda x: vader.polarity_scores(x)"
   ]
  },
  {
   "cell_type": "code",
   "execution_count": 25,
   "id": "5dbd7200",
   "metadata": {},
   "outputs": [
    {
     "data": {
      "text/html": [
       "<div>\n",
       "<style scoped>\n",
       "    .dataframe tbody tr th:only-of-type {\n",
       "        vertical-align: middle;\n",
       "    }\n",
       "\n",
       "    .dataframe tbody tr th {\n",
       "        vertical-align: top;\n",
       "    }\n",
       "\n",
       "    .dataframe thead th {\n",
       "        text-align: right;\n",
       "    }\n",
       "</style>\n",
       "<table border=\"1\" class=\"dataframe\">\n",
       "  <thead>\n",
       "    <tr style=\"text-align: right;\">\n",
       "      <th></th>\n",
       "      <th>date</th>\n",
       "      <th>time</th>\n",
       "      <th>title</th>\n",
       "      <th>compound</th>\n",
       "    </tr>\n",
       "  </thead>\n",
       "  <tbody>\n",
       "    <tr>\n",
       "      <th>0</th>\n",
       "      <td>Apr-01-22</td>\n",
       "      <td>09:41AM</td>\n",
       "      <td>Three U.S. House Democrats seek documents from...</td>\n",
       "      <td>0.1779</td>\n",
       "    </tr>\n",
       "    <tr>\n",
       "      <th>1</th>\n",
       "      <td>Apr-01-22</td>\n",
       "      <td>09:38AM</td>\n",
       "      <td>Amazon's NY union vote count continues, labor ...</td>\n",
       "      <td>0.0000</td>\n",
       "    </tr>\n",
       "    <tr>\n",
       "      <th>2</th>\n",
       "      <td>Apr-01-22</td>\n",
       "      <td>09:00AM</td>\n",
       "      <td>U.S. lawmakers open probe into Amazon labor pr...</td>\n",
       "      <td>0.1779</td>\n",
       "    </tr>\n",
       "    <tr>\n",
       "      <th>3</th>\n",
       "      <td>Apr-01-22</td>\n",
       "      <td>08:30AM</td>\n",
       "      <td>Stock Split Watch: Is MercadoLibre Next?</td>\n",
       "      <td>0.0000</td>\n",
       "    </tr>\n",
       "    <tr>\n",
       "      <th>4</th>\n",
       "      <td>Apr-01-22</td>\n",
       "      <td>08:16AM</td>\n",
       "      <td>GameStop Flags Stock Split, Shares Surge</td>\n",
       "      <td>0.2960</td>\n",
       "    </tr>\n",
       "    <tr>\n",
       "      <th>...</th>\n",
       "      <td>...</td>\n",
       "      <td>...</td>\n",
       "      <td>...</td>\n",
       "      <td>...</td>\n",
       "    </tr>\n",
       "    <tr>\n",
       "      <th>95</th>\n",
       "      <td>Mar-29-22</td>\n",
       "      <td>07:00AM</td>\n",
       "      <td>Biden proposed a big funding increase for US a...</td>\n",
       "      <td>0.3182</td>\n",
       "    </tr>\n",
       "    <tr>\n",
       "      <th>96</th>\n",
       "      <td>Mar-29-22</td>\n",
       "      <td>06:00AM</td>\n",
       "      <td>3 Amazon Mistakes I've Made That Cost Me Big-Time</td>\n",
       "      <td>-0.2023</td>\n",
       "    </tr>\n",
       "    <tr>\n",
       "      <th>97</th>\n",
       "      <td>Mar-29-22</td>\n",
       "      <td>05:56AM</td>\n",
       "      <td>Justice Department Supports Bill That Targets ...</td>\n",
       "      <td>0.7650</td>\n",
       "    </tr>\n",
       "    <tr>\n",
       "      <th>98</th>\n",
       "      <td>Mar-29-22</td>\n",
       "      <td>04:28AM</td>\n",
       "      <td>Senate Passes China Competition Bill to Start ...</td>\n",
       "      <td>0.0000</td>\n",
       "    </tr>\n",
       "    <tr>\n",
       "      <th>99</th>\n",
       "      <td>Mar-29-22</td>\n",
       "      <td>03:00AM</td>\n",
       "      <td>Amazon Glow Now Available for All Customers in...</td>\n",
       "      <td>0.6808</td>\n",
       "    </tr>\n",
       "  </tbody>\n",
       "</table>\n",
       "<p>100 rows × 4 columns</p>\n",
       "</div>"
      ],
      "text/plain": [
       "         date       time                                              title  \\\n",
       "0   Apr-01-22  09:41AM    Three U.S. House Democrats seek documents from...   \n",
       "1   Apr-01-22  09:38AM    Amazon's NY union vote count continues, labor ...   \n",
       "2   Apr-01-22  09:00AM    U.S. lawmakers open probe into Amazon labor pr...   \n",
       "3   Apr-01-22  08:30AM             Stock Split Watch: Is MercadoLibre Next?   \n",
       "4   Apr-01-22  08:16AM             GameStop Flags Stock Split, Shares Surge   \n",
       "..        ...        ...                                                ...   \n",
       "95  Mar-29-22  07:00AM    Biden proposed a big funding increase for US a...   \n",
       "96  Mar-29-22  06:00AM    3 Amazon Mistakes I've Made That Cost Me Big-Time   \n",
       "97  Mar-29-22  05:56AM    Justice Department Supports Bill That Targets ...   \n",
       "98  Mar-29-22  04:28AM    Senate Passes China Competition Bill to Start ...   \n",
       "99  Mar-29-22  03:00AM    Amazon Glow Now Available for All Customers in...   \n",
       "\n",
       "    compound  \n",
       "0     0.1779  \n",
       "1     0.0000  \n",
       "2     0.1779  \n",
       "3     0.0000  \n",
       "4     0.2960  \n",
       "..       ...  \n",
       "95    0.3182  \n",
       "96   -0.2023  \n",
       "97    0.7650  \n",
       "98    0.0000  \n",
       "99    0.6808  \n",
       "\n",
       "[100 rows x 4 columns]"
      ]
     },
     "execution_count": 25,
     "metadata": {},
     "output_type": "execute_result"
    }
   ],
   "source": [
    "df[\"compound\"] = df[\"title\"].apply(lambda x: vader.polarity_scores(x)[\"compound\"])\n",
    "df"
   ]
  },
  {
   "cell_type": "code",
   "execution_count": 28,
   "id": "87ecd2c5",
   "metadata": {},
   "outputs": [
    {
     "data": {
      "image/png": "[encoded data removed]",
      "text/plain": [
       "<Figure size 432x288 with 1 Axes>"
      ]
     },
     "metadata": {
      "needs_background": "light"
     },
     "output_type": "display_data"
    }
   ],
   "source": [
    "df[\"compound\"].plot(kind=\"bar\");"
   ]
  },
  {
   "cell_type": "code",
   "execution_count": 29,
   "id": "5e6ba9b1",
   "metadata": {},
   "outputs": [],
   "source": [
    "mean_df = df.groupby(\"date\").mean()"
   ]
  },
  {
   "cell_type": "code",
   "execution_count": 31,
   "id": "d1b8fbfc",
   "metadata": {},
   "outputs": [
    {
     "data": {
      "image/png": "[encoded data removed]",
      "text/plain": [
       "<Figure size 432x288 with 1 Axes>"
      ]
     },
     "metadata": {
      "needs_background": "light"
     },
     "output_type": "display_data"
    }
   ],
   "source": [
    "mean_df.plot(kind=\"bar\");"
   ]
  },
  {
   "cell_type": "code",
   "execution_count": null,
   "id": "a76dc485",
   "metadata": {},
   "outputs": [],
   "source": []
  }
 ],
 "metadata": {
  "kernelspec": {
   "display_name": "Python 3 (ipykernel)",
   "language": "python",
   "name": "python3"
  },
  "language_info": {
   "codemirror_mode": {
    "name": "ipython",
    "version": 3
   },
   "file_extension": ".py",
   "mimetype": "text/x-python",
   "name": "python",
   "nbconvert_exporter": "python",
   "pygments_lexer": "ipython3",
   "version": "3.9.7"
  }
 },
 "nbformat": 4,
 "nbformat_minor": 5
}
