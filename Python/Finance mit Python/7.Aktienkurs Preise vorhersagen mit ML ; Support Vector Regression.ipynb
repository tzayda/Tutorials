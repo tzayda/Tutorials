{
 "cells": [
  {
   "cell_type": "code",
   "execution_count": 1,
   "metadata": {},
   "outputs": [],
   "source": [
    "#Beschreibung: Dieses Programm sagt Aktienkurspreise für die nächsten 30 Tage vorher, mithilfe von ML\n",
    "#              Hierbei wird die SVR verwendet um Prognosen zu erstellen"
   ]
  },
  {
   "cell_type": "code",
   "execution_count": 2,
   "metadata": {},
   "outputs": [
    {
     "ename": "ModuleNotFoundError",
     "evalue": "No module named 'pandas_datareader'",
     "output_type": "error",
     "traceback": [
      "\u001b[0;31m---------------------------------------------------------------------------\u001b[0m",
      "\u001b[0;31mModuleNotFoundError\u001b[0m                       Traceback (most recent call last)",
      "\u001b[0;32m<ipython-input-2-494adf911b8c>\u001b[0m in \u001b[0;36m<module>\u001b[0;34m\u001b[0m\n\u001b[1;32m      1\u001b[0m \u001b[0;31m#Import der Libraries\u001b[0m\u001b[0;34m\u001b[0m\u001b[0;34m\u001b[0m\u001b[0;34m\u001b[0m\u001b[0m\n\u001b[1;32m      2\u001b[0m \u001b[0;32mimport\u001b[0m \u001b[0mpandas\u001b[0m \u001b[0;32mas\u001b[0m \u001b[0mpd\u001b[0m\u001b[0;34m\u001b[0m\u001b[0;34m\u001b[0m\u001b[0m\n\u001b[0;32m----> 3\u001b[0;31m \u001b[0;32mimport\u001b[0m \u001b[0mpandas_datareader\u001b[0m \u001b[0;32mas\u001b[0m \u001b[0mweb\u001b[0m\u001b[0;34m\u001b[0m\u001b[0;34m\u001b[0m\u001b[0m\n\u001b[0m\u001b[1;32m      4\u001b[0m \u001b[0;32mimport\u001b[0m \u001b[0mnumpy\u001b[0m \u001b[0;32mas\u001b[0m \u001b[0mnp\u001b[0m\u001b[0;34m\u001b[0m\u001b[0;34m\u001b[0m\u001b[0m\n",
      "\u001b[0;31mModuleNotFoundError\u001b[0m: No module named 'pandas_datareader'"
     ]
    }
   ],
   "source": [
    "#Import der Libraries\n",
    "import pandas as pd\n",
    "import pandas_datareader as web\n",
    "import numpy as np"
   ]
  },
  {
   "cell_type": "code",
   "execution_count": 4,
   "metadata": {},
   "outputs": [
    {
     "data": {
      "text/html": [
       "<div>\n",
       "<style scoped>\n",
       "    .dataframe tbody tr th:only-of-type {\n",
       "        vertical-align: middle;\n",
       "    }\n",
       "\n",
       "    .dataframe tbody tr th {\n",
       "        vertical-align: top;\n",
       "    }\n",
       "\n",
       "    .dataframe thead th {\n",
       "        text-align: right;\n",
       "    }\n",
       "</style>\n",
       "<table border=\"1\" class=\"dataframe\">\n",
       "  <thead>\n",
       "    <tr style=\"text-align: right;\">\n",
       "      <th></th>\n",
       "      <th>High</th>\n",
       "      <th>Low</th>\n",
       "      <th>Open</th>\n",
       "      <th>Close</th>\n",
       "      <th>Volume</th>\n",
       "      <th>Adj Close</th>\n",
       "    </tr>\n",
       "    <tr>\n",
       "      <th>Date</th>\n",
       "      <th></th>\n",
       "      <th></th>\n",
       "      <th></th>\n",
       "      <th></th>\n",
       "      <th></th>\n",
       "      <th></th>\n",
       "    </tr>\n",
       "  </thead>\n",
       "  <tbody>\n",
       "    <tr>\n",
       "      <th>2018-01-02</th>\n",
       "      <td>43.075001</td>\n",
       "      <td>42.314999</td>\n",
       "      <td>42.540001</td>\n",
       "      <td>43.064999</td>\n",
       "      <td>102223600.0</td>\n",
       "      <td>41.135750</td>\n",
       "    </tr>\n",
       "    <tr>\n",
       "      <th>2018-01-03</th>\n",
       "      <td>43.637501</td>\n",
       "      <td>42.990002</td>\n",
       "      <td>43.132500</td>\n",
       "      <td>43.057499</td>\n",
       "      <td>118071600.0</td>\n",
       "      <td>41.128593</td>\n",
       "    </tr>\n",
       "    <tr>\n",
       "      <th>2018-01-04</th>\n",
       "      <td>43.367500</td>\n",
       "      <td>43.020000</td>\n",
       "      <td>43.134998</td>\n",
       "      <td>43.257500</td>\n",
       "      <td>89738400.0</td>\n",
       "      <td>41.319630</td>\n",
       "    </tr>\n",
       "    <tr>\n",
       "      <th>2018-01-05</th>\n",
       "      <td>43.842499</td>\n",
       "      <td>43.262501</td>\n",
       "      <td>43.360001</td>\n",
       "      <td>43.750000</td>\n",
       "      <td>94640000.0</td>\n",
       "      <td>41.790058</td>\n",
       "    </tr>\n",
       "    <tr>\n",
       "      <th>2018-01-08</th>\n",
       "      <td>43.902500</td>\n",
       "      <td>43.482498</td>\n",
       "      <td>43.587502</td>\n",
       "      <td>43.587502</td>\n",
       "      <td>82271200.0</td>\n",
       "      <td>41.634846</td>\n",
       "    </tr>\n",
       "    <tr>\n",
       "      <th>...</th>\n",
       "      <td>...</td>\n",
       "      <td>...</td>\n",
       "      <td>...</td>\n",
       "      <td>...</td>\n",
       "      <td>...</td>\n",
       "      <td>...</td>\n",
       "    </tr>\n",
       "    <tr>\n",
       "      <th>2020-12-11</th>\n",
       "      <td>122.760002</td>\n",
       "      <td>120.550003</td>\n",
       "      <td>122.430000</td>\n",
       "      <td>122.410004</td>\n",
       "      <td>86939800.0</td>\n",
       "      <td>121.505196</td>\n",
       "    </tr>\n",
       "    <tr>\n",
       "      <th>2020-12-14</th>\n",
       "      <td>123.349998</td>\n",
       "      <td>121.540001</td>\n",
       "      <td>122.599998</td>\n",
       "      <td>121.779999</td>\n",
       "      <td>79184500.0</td>\n",
       "      <td>120.879845</td>\n",
       "    </tr>\n",
       "    <tr>\n",
       "      <th>2020-12-15</th>\n",
       "      <td>127.900002</td>\n",
       "      <td>124.129997</td>\n",
       "      <td>124.339996</td>\n",
       "      <td>127.879997</td>\n",
       "      <td>157243700.0</td>\n",
       "      <td>126.934753</td>\n",
       "    </tr>\n",
       "    <tr>\n",
       "      <th>2020-12-16</th>\n",
       "      <td>128.369995</td>\n",
       "      <td>126.559998</td>\n",
       "      <td>127.410004</td>\n",
       "      <td>127.809998</td>\n",
       "      <td>98208600.0</td>\n",
       "      <td>126.865273</td>\n",
       "    </tr>\n",
       "    <tr>\n",
       "      <th>2020-12-17</th>\n",
       "      <td>129.580002</td>\n",
       "      <td>128.039993</td>\n",
       "      <td>128.899994</td>\n",
       "      <td>128.699997</td>\n",
       "      <td>94359800.0</td>\n",
       "      <td>127.748680</td>\n",
       "    </tr>\n",
       "  </tbody>\n",
       "</table>\n",
       "<p>747 rows × 6 columns</p>\n",
       "</div>"
      ],
      "text/plain": [
       "                  High         Low        Open       Close       Volume  \\\n",
       "Date                                                                      \n",
       "2018-01-02   43.075001   42.314999   42.540001   43.064999  102223600.0   \n",
       "2018-01-03   43.637501   42.990002   43.132500   43.057499  118071600.0   \n",
       "2018-01-04   43.367500   43.020000   43.134998   43.257500   89738400.0   \n",
       "2018-01-05   43.842499   43.262501   43.360001   43.750000   94640000.0   \n",
       "2018-01-08   43.902500   43.482498   43.587502   43.587502   82271200.0   \n",
       "...                ...         ...         ...         ...          ...   \n",
       "2020-12-11  122.760002  120.550003  122.430000  122.410004   86939800.0   \n",
       "2020-12-14  123.349998  121.540001  122.599998  121.779999   79184500.0   \n",
       "2020-12-15  127.900002  124.129997  124.339996  127.879997  157243700.0   \n",
       "2020-12-16  128.369995  126.559998  127.410004  127.809998   98208600.0   \n",
       "2020-12-17  129.580002  128.039993  128.899994  128.699997   94359800.0   \n",
       "\n",
       "             Adj Close  \n",
       "Date                    \n",
       "2018-01-02   41.135750  \n",
       "2018-01-03   41.128593  \n",
       "2018-01-04   41.319630  \n",
       "2018-01-05   41.790058  \n",
       "2018-01-08   41.634846  \n",
       "...                ...  \n",
       "2020-12-11  121.505196  \n",
       "2020-12-14  120.879845  \n",
       "2020-12-15  126.934753  \n",
       "2020-12-16  126.865273  \n",
       "2020-12-17  127.748680  \n",
       "\n",
       "[747 rows x 6 columns]"
      ]
     },
     "execution_count": 4,
     "metadata": {},
     "output_type": "execute_result"
    }
   ],
   "source": [
    "#Daten einlesen bzw. downloaden\n",
    "df = web.DataReader(\"AAPL\", data_source=\"yahoo\", start =\"2018-01-01\", end=\"2020-12-17\")\n",
    "\n",
    "df"
   ]
  },
  {
   "cell_type": "code",
   "execution_count": 7,
   "metadata": {},
   "outputs": [],
   "source": [
    "#Variable für die Anzahl an Tagen, die wir vorhersagen möchten\n",
    "\n",
    "prediction_days = 30\n",
    "\n",
    "df[\"Prediction\"] = df[\"Adj Close\"].shift(-prediction_days)"
   ]
  },
  {
   "cell_type": "code",
   "execution_count": 11,
   "metadata": {},
   "outputs": [],
   "source": [
    "#df.tail(33)"
   ]
  },
  {
   "cell_type": "code",
   "execution_count": 27,
   "metadata": {},
   "outputs": [],
   "source": [
    "#aufteilen der Daten in X und y Werte\n",
    "\n",
    "X = np.array(df[[\"Adj Close\"]])\n",
    "\n",
    "X = X[: len(df)-prediction_days]"
   ]
  },
  {
   "cell_type": "code",
   "execution_count": 28,
   "metadata": {},
   "outputs": [],
   "source": [
    "#Erstellen der y Werte\n",
    "\n",
    "y = np.array(df[\"Prediction\"])\n",
    "\n",
    "y = y[: -prediction_days]"
   ]
  },
  {
   "cell_type": "code",
   "execution_count": 34,
   "metadata": {},
   "outputs": [],
   "source": [
    "#Aufteilen der Daten in Trainings und Test Daten\n",
    "\n",
    "from sklearn.model_selection import train_test_split\n",
    "\n",
    "X_train, X_test, y_train, y_test = train_test_split(X, y, test_size=0.2)"
   ]
  },
  {
   "cell_type": "code",
   "execution_count": 41,
   "metadata": {},
   "outputs": [],
   "source": [
    "#Erstellen wir uns eine Variable mit den letzten 30 Werten aus dem Dataframe\n",
    "\n",
    "prediction_days_array = np.array(df[[\"Adj Close\"]])[-prediction_days:]"
   ]
  },
  {
   "cell_type": "code",
   "execution_count": 42,
   "metadata": {},
   "outputs": [
    {
     "data": {
      "text/plain": [
       "array([[117.94667816],\n",
       "       [117.81269073],\n",
       "       [115.46019745],\n",
       "       [115.11279297],\n",
       "       [118.60677338],\n",
       "       [118.32883453],\n",
       "       [118.378479  ],\n",
       "       [119.41078186],\n",
       "       [118.50750732],\n",
       "       [117.15755463],\n",
       "       [117.76305389],\n",
       "       [116.47265625],\n",
       "       [113.008461  ],\n",
       "       [114.3187027 ],\n",
       "       [115.17234802],\n",
       "       [115.72820282],\n",
       "       [118.17003632],\n",
       "       [121.81289673],\n",
       "       [122.17024231],\n",
       "       [122.03128052],\n",
       "       [121.34636688],\n",
       "       [122.835289  ],\n",
       "       [123.46061707],\n",
       "       [120.87984467],\n",
       "       [122.32904816],\n",
       "       [121.50519562],\n",
       "       [120.87984467],\n",
       "       [126.93475342],\n",
       "       [126.86527252],\n",
       "       [127.74868011]])"
      ]
     },
     "execution_count": 42,
     "metadata": {},
     "output_type": "execute_result"
    }
   ],
   "source": [
    "prediction_days_array"
   ]
  },
  {
   "cell_type": "code",
   "execution_count": 43,
   "metadata": {},
   "outputs": [
    {
     "data": {
      "text/plain": [
       "SVR(C=1000.0, gamma=1e-05)"
      ]
     },
     "execution_count": 43,
     "metadata": {},
     "output_type": "execute_result"
    }
   ],
   "source": [
    "from sklearn.svm import SVR\n",
    "\n",
    "#Support Vector Regression mit radial basis function\n",
    "\n",
    "svr_rbf = SVR(kernel=\"rbf\", C=1e3, gamma=0.00001)\n",
    "svr_rbf.fit(X_train, y_train)"
   ]
  },
  {
   "cell_type": "code",
   "execution_count": 44,
   "metadata": {},
   "outputs": [
    {
     "name": "stdout",
     "output_type": "stream",
     "text": [
      "Das Model hat einen Score von:  0.8929088701200857\n"
     ]
    }
   ],
   "source": [
    "#Testen des Models\n",
    "\n",
    "model_test = svr_rbf.score(X_test, y_test)\n",
    "\n",
    "print(\"Das Model hat einen Score von: \", model_test)"
   ]
  },
  {
   "cell_type": "code",
   "execution_count": 45,
   "metadata": {},
   "outputs": [],
   "source": [
    "##Ausgeben der vorhergesagten Test Werte\n",
    "\n",
    "#svm_prediction = svr_rbf.predict(X_test)\n",
    "#print(svm_prediction)\n",
    "\n",
    "#print()\n",
    "\n",
    "##Ausgeben der tatsächlichen Werte\n",
    "#print(y_test)"
   ]
  },
  {
   "cell_type": "code",
   "execution_count": 46,
   "metadata": {},
   "outputs": [
    {
     "name": "stdout",
     "output_type": "stream",
     "text": [
      "[119.45973015 119.36910945 117.74977139 117.50612252 119.90363375\n",
      " 119.71724002 119.75058808 120.43859257 119.83714929 118.92351292\n",
      " 119.33549403 118.45323796 116.00562    116.94485553 117.54797307\n",
      " 117.93694323 119.61040854 121.99923414 122.22655841 122.13830778\n",
      " 121.70056101 122.64627347 123.03693574 121.39975391 122.32717837\n",
      " 121.80248374 121.39975391 125.13659929 125.09578729 125.61108375]\n",
      "\n",
      "Date\n",
      "2020-11-05    117.946678\n",
      "2020-11-06    117.812691\n",
      "2020-11-09    115.460197\n",
      "2020-11-10    115.112793\n",
      "2020-11-11    118.606773\n",
      "2020-11-12    118.328835\n",
      "2020-11-13    118.378479\n",
      "2020-11-16    119.410782\n",
      "2020-11-17    118.507507\n",
      "2020-11-18    117.157555\n",
      "2020-11-19    117.763054\n",
      "2020-11-20    116.472656\n",
      "2020-11-23    113.008461\n",
      "2020-11-24    114.318703\n",
      "2020-11-25    115.172348\n",
      "2020-11-27    115.728203\n",
      "2020-11-30    118.170036\n",
      "2020-12-01    121.812897\n",
      "2020-12-02    122.170242\n",
      "2020-12-03    122.031281\n",
      "2020-12-04    121.346367\n",
      "2020-12-07    122.835289\n",
      "2020-12-08    123.460617\n",
      "2020-12-09    120.879845\n",
      "2020-12-10    122.329048\n",
      "2020-12-11    121.505196\n",
      "2020-12-14    120.879845\n",
      "2020-12-15    126.934753\n",
      "2020-12-16    126.865273\n",
      "2020-12-17    127.748680\n",
      "Name: Adj Close, dtype: float64\n"
     ]
    }
   ],
   "source": [
    "svm_prediction = svr_rbf.predict(prediction_days_array)\n",
    "print(svm_prediction)\n",
    "\n",
    "print()\n",
    "\n",
    "print(df[\"Adj Close\"].tail(prediction_days))"
   ]
  },
  {
   "cell_type": "code",
   "execution_count": null,
   "metadata": {},
   "outputs": [],
   "source": []
  }
 ],
 "metadata": {
  "kernelspec": {
   "display_name": "Python 3",
   "language": "python",
   "name": "python3"
  },
  "language_info": {
   "codemirror_mode": {
    "name": "ipython",
    "version": 3
   },
   "file_extension": ".py",
   "mimetype": "text/x-python",
   "name": "python",
   "nbconvert_exporter": "python",
   "pygments_lexer": "ipython3",
   "version": "3.8.3"
  }
 },
 "nbformat": 4,
 "nbformat_minor": 5
}
